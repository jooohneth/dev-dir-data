{
 "cells": [
  {
   "cell_type": "code",
   "execution_count": 1,
   "metadata": {},
   "outputs": [],
   "source": [
    "import pandas as pd"
   ]
  },
  {
   "cell_type": "code",
   "execution_count": 6,
   "metadata": {},
   "outputs": [],
   "source": [
    "rawEthKlDf = pd.read_csv(\"ETHKL.csv\")"
   ]
  },
  {
   "cell_type": "code",
   "execution_count": 7,
   "metadata": {},
   "outputs": [
    {
     "name": "stdout",
     "output_type": "stream",
     "text": [
      "  first_name   last_name                              email     team_name  \\\n",
      "0     Victor  Barbulescu  victorandrei.barbulescu@gmail.com  Perpetual SE   \n",
      "1   Cristian  Barbulescu           s2028059@siswa.um.edu.my  Perpetual SE   \n",
      "2      Tudor           B             tudor.barbu7@gmail.com  Perpetual SE   \n",
      "3      Hamza        Khan          hamzaasimkhan93@gmail.com           NaN   \n",
      "4   YongMing         Tan                jeremy0908@1utar.my     IdenTHEty   \n",
      "\n",
      "  winners                             Github  \\\n",
      "0     NaN                                NaN   \n",
      "1     NaN                                NaN   \n",
      "2     NaN                                NaN   \n",
      "3     NaN  https://github.com/hamzaKhan12122   \n",
      "4     NaN    https://github.com/Jeremy090800   \n",
      "\n",
      "                               Twitter  \\\n",
      "0                                  NaN   \n",
      "1                                  NaN   \n",
      "2                                  NaN   \n",
      "3         http://twitter.com/hamzak420   \n",
      "4  https://twitter.com/jeremy956621953   \n",
      "\n",
      "                                            Linkedin  \n",
      "0                                                NaN  \n",
      "1                                                NaN  \n",
      "2                                                NaN  \n",
      "3  https://www.linkedin.com/in/hamza-khan-1573a92...  \n",
      "4  https://www.linkedin.com/in/jeremy-tan-5a31a0296/  \n"
     ]
    }
   ],
   "source": [
    "print(rawEthKlDf.head())   "
   ]
  },
  {
   "cell_type": "code",
   "execution_count": 10,
   "metadata": {},
   "outputs": [],
   "source": [
    "rawEthKlDf[['team_name', 'email', 'Github', 'Twitter']].to_csv(\"cleanedEthKl.csv\", index=False, header=True)"
   ]
  }
 ],
 "metadata": {
  "kernelspec": {
   "display_name": "Python 3",
   "language": "python",
   "name": "python3"
  },
  "language_info": {
   "codemirror_mode": {
    "name": "ipython",
    "version": 3
   },
   "file_extension": ".py",
   "mimetype": "text/x-python",
   "name": "python",
   "nbconvert_exporter": "python",
   "pygments_lexer": "ipython3",
   "version": "3.9.6"
  }
 },
 "nbformat": 4,
 "nbformat_minor": 2
}
